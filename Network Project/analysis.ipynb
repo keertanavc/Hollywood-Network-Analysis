{
 "cells": [
  {
   "cell_type": "code",
   "execution_count": 1,
   "metadata": {},
   "outputs": [
    {
     "data": {
      "application/vnd.jupyter.widget-view+json": {
       "model_id": "b96f09ff52dc443d93046042fd82ff8f",
       "version_major": 2,
       "version_minor": 0
      },
      "text/plain": [
       "VBox()"
      ]
     },
     "metadata": {},
     "output_type": "display_data"
    },
    {
     "name": "stdout",
     "output_type": "stream",
     "text": [
      "Starting Spark application\n"
     ]
    },
    {
     "data": {
      "text/html": [
       "<table>\n",
       "<tr><th>ID</th><th>YARN Application ID</th><th>Kind</th><th>State</th><th>Spark UI</th><th>Driver log</th><th>Current session?</th></tr><tr><td>9</td><td>application_1592076919424_0010</td><td>pyspark</td><td>idle</td><td><a target=\"_blank\" href=\"http://ip-172-31-15-229.ec2.internal:20888/proxy/application_1592076919424_0010/\">Link</a></td><td><a target=\"_blank\" href=\"http://ip-172-31-15-229.ec2.internal:8042/node/containerlogs/container_1592076919424_0010_01_000001/livy\">Link</a></td><td>✔</td></tr></table>"
      ],
      "text/plain": [
       "<IPython.core.display.HTML object>"
      ]
     },
     "metadata": {},
     "output_type": "display_data"
    },
    {
     "data": {
      "application/vnd.jupyter.widget-view+json": {
       "model_id": "",
       "version_major": 2,
       "version_minor": 0
      },
      "text/plain": [
       "FloatProgress(value=0.0, bar_style='info', description='Progress:', layout=Layout(height='25px', width='50%'),…"
      ]
     },
     "metadata": {},
     "output_type": "display_data"
    },
    {
     "name": "stdout",
     "output_type": "stream",
     "text": [
      "SparkSession available as 'spark'.\n"
     ]
    },
    {
     "data": {
      "application/vnd.jupyter.widget-view+json": {
       "model_id": "",
       "version_major": 2,
       "version_minor": 0
      },
      "text/plain": [
       "FloatProgress(value=0.0, bar_style='info', description='Progress:', layout=Layout(height='25px', width='50%'),…"
      ]
     },
     "metadata": {},
     "output_type": "display_data"
    },
    {
     "name": "stdout",
     "output_type": "stream",
     "text": [
      "Collecting graphframes\n",
      "  Using cached https://files.pythonhosted.org/packages/0b/27/c7c7e1ced2fe9a905f865dd91faaec2ac8a8e313f511678c8ec92a41a153/graphframes-0.6-py2.py3-none-any.whl\n",
      "Requirement already satisfied: nose in /usr/local/lib/python3.7/site-packages (from graphframes)\n",
      "Requirement already satisfied: numpy in /usr/local/lib64/python3.7/site-packages (from graphframes)\n",
      "Installing collected packages: graphframes\n",
      "Successfully installed graphframes-0.6\n",
      "\n",
      "Collecting pandas\n",
      "  Using cached https://files.pythonhosted.org/packages/a4/5f/1b6e0efab4bfb738478919d40b0e3e1a06e3d9996da45eb62a77e9a090d9/pandas-1.0.4-cp37-cp37m-manylinux1_x86_64.whl\n",
      "Requirement already satisfied: pytz>=2017.2 in /usr/local/lib/python3.7/site-packages (from pandas)\n",
      "Requirement already satisfied: numpy>=1.13.3 in /usr/local/lib64/python3.7/site-packages (from pandas)\n",
      "Collecting python-dateutil>=2.6.1 (from pandas)\n",
      "  Using cached https://files.pythonhosted.org/packages/d4/70/d60450c3dd48ef87586924207ae8907090de0b306af2bce5d134d78615cb/python_dateutil-2.8.1-py2.py3-none-any.whl\n",
      "Requirement already satisfied: six>=1.5 in /usr/local/lib/python3.7/site-packages (from python-dateutil>=2.6.1->pandas)\n",
      "Installing collected packages: python-dateutil, pandas\n",
      "Successfully installed pandas-1.0.4 python-dateutil-2.8.1\n",
      "\n",
      "Requirement already satisfied: numpy in /usr/local/lib64/python3.7/site-packages\n",
      "\n",
      "Collecting seaborn\n",
      "  Using cached https://files.pythonhosted.org/packages/c7/e6/54aaaafd0b87f51dfba92ba73da94151aa3bc179e5fe88fc5dfb3038e860/seaborn-0.10.1-py3-none-any.whl\n",
      "Requirement already satisfied: pandas>=0.22.0 in /mnt/tmp/1592108788778-0/lib/python3.7/site-packages (from seaborn)\n",
      "Requirement already satisfied: numpy>=1.13.3 in /usr/local/lib64/python3.7/site-packages (from seaborn)\n",
      "Collecting scipy>=1.0.1 (from seaborn)\n",
      "  Using cached https://files.pythonhosted.org/packages/dd/82/c1fe128f3526b128cfd185580ba40d01371c5d299fcf7f77968e22dfcc2e/scipy-1.4.1-cp37-cp37m-manylinux1_x86_64.whl\n",
      "Collecting matplotlib>=2.1.2 (from seaborn)\n",
      "  Using cached https://files.pythonhosted.org/packages/b2/c2/71fcf957710f3ba1f09088b35776a799ba7dd95f7c2b195ec800933b276b/matplotlib-3.2.1-cp37-cp37m-manylinux1_x86_64.whl\n",
      "Requirement already satisfied: pytz>=2017.2 in /usr/local/lib/python3.7/site-packages (from pandas>=0.22.0->seaborn)\n",
      "Requirement already satisfied: python-dateutil>=2.6.1 in /mnt/tmp/1592108788778-0/lib/python3.7/site-packages (from pandas>=0.22.0->seaborn)\n",
      "Collecting pyparsing!=2.0.4,!=2.1.2,!=2.1.6,>=2.0.1 (from matplotlib>=2.1.2->seaborn)\n",
      "  Using cached https://files.pythonhosted.org/packages/8a/bb/488841f56197b13700afd5658fc279a2025a39e22449b7cf29864669b15d/pyparsing-2.4.7-py2.py3-none-any.whl\n",
      "Collecting cycler>=0.10 (from matplotlib>=2.1.2->seaborn)\n",
      "  Using cached https://files.pythonhosted.org/packages/f7/d2/e07d3ebb2bd7af696440ce7e754c59dd546ffe1bbe732c8ab68b9c834e61/cycler-0.10.0-py2.py3-none-any.whl\n",
      "Collecting kiwisolver>=1.0.1 (from matplotlib>=2.1.2->seaborn)\n",
      "  Using cached https://files.pythonhosted.org/packages/31/b9/6202dcae729998a0ade30e80ac00f616542ef445b088ec970d407dfd41c0/kiwisolver-1.2.0-cp37-cp37m-manylinux1_x86_64.whl\n",
      "Requirement already satisfied: six>=1.5 in /usr/local/lib/python3.7/site-packages (from python-dateutil>=2.6.1->pandas>=0.22.0->seaborn)\n",
      "Installing collected packages: scipy, pyparsing, cycler, kiwisolver, matplotlib, seaborn\n",
      "Successfully installed cycler-0.10.0 kiwisolver-1.2.0 matplotlib-3.2.1 pyparsing-2.4.7 scipy-1.4.1 seaborn-0.10.1\n",
      "\n",
      "Collecting s3fs\n",
      "  Using cached https://files.pythonhosted.org/packages/b8/e4/b8fc59248399d2482b39340ec9be4bb2493846ac23641b43115a7e5cd675/s3fs-0.4.2-py3-none-any.whl\n",
      "Collecting fsspec>=0.6.0 (from s3fs)\n",
      "  Using cached https://files.pythonhosted.org/packages/0f/31/f27a81686b2f1b2f6776bd5db10efc7d88f28a50e8888f55409ef6501a50/fsspec-0.7.4-py3-none-any.whl\n",
      "Collecting botocore>=1.12.91 (from s3fs)\n",
      "  Using cached https://files.pythonhosted.org/packages/65/5c/8e001190db89151347c497e8faa6fc1059acc8c0079b9adffa1f0ee2fe82/botocore-1.17.2-py2.py3-none-any.whl\n",
      "Collecting urllib3<1.26,>=1.20; python_version != \"3.4\" (from botocore>=1.12.91->s3fs)\n",
      "  Using cached https://files.pythonhosted.org/packages/e1/e5/df302e8017440f111c11cc41a6b432838672f5a70aa29227bf58149dc72f/urllib3-1.25.9-py2.py3-none-any.whl\n",
      "Requirement already satisfied: python-dateutil<3.0.0,>=2.1 in /mnt/tmp/1592108788778-0/lib/python3.7/site-packages (from botocore>=1.12.91->s3fs)\n",
      "Requirement already satisfied: jmespath<1.0.0,>=0.7.1 in /usr/local/lib/python3.7/site-packages (from botocore>=1.12.91->s3fs)\n",
      "Collecting docutils<0.16,>=0.10 (from botocore>=1.12.91->s3fs)\n",
      "  Using cached https://files.pythonhosted.org/packages/22/cd/a6aa959dca619918ccb55023b4cb151949c64d4d5d55b3f4ffd7eee0c6e8/docutils-0.15.2-py3-none-any.whl\n",
      "Requirement already satisfied: six>=1.5 in /usr/local/lib/python3.7/site-packages (from python-dateutil<3.0.0,>=2.1->botocore>=1.12.91->s3fs)\n",
      "Installing collected packages: fsspec, urllib3, docutils, botocore, s3fs\n",
      "Successfully installed botocore-1.17.2 docutils-0.15.2 fsspec-0.7.4 s3fs-0.4.2 urllib3-1.25.9"
     ]
    }
   ],
   "source": [
    "sc.install_pypi_package('graphframes')\n",
    "sc.install_pypi_package('pandas')\n",
    "sc.install_pypi_package('numpy')\n",
    "sc.install_pypi_package('seaborn')\n",
    "sc.install_pypi_package('s3fs')\n",
    "sc.setCheckpointDir(\"/tmp\")"
   ]
  },
  {
   "cell_type": "code",
   "execution_count": 2,
   "metadata": {},
   "outputs": [
    {
     "data": {
      "application/vnd.jupyter.widget-view+json": {
       "model_id": "bb159bcfeaee44faaa0fd576913c3536",
       "version_major": 2,
       "version_minor": 0
      },
      "text/plain": [
       "VBox()"
      ]
     },
     "metadata": {},
     "output_type": "display_data"
    },
    {
     "data": {
      "application/vnd.jupyter.widget-view+json": {
       "model_id": "",
       "version_major": 2,
       "version_minor": 0
      },
      "text/plain": [
       "FloatProgress(value=0.0, bar_style='info', description='Progress:', layout=Layout(height='25px', width='50%'),…"
      ]
     },
     "metadata": {},
     "output_type": "display_data"
    }
   ],
   "source": [
    "from graphframes import *\n",
    "import re\n",
    "import s3fs\n",
    "import math\n",
    "import boto\n",
    "import pandas as pd\n",
    "import numpy as np\n",
    "import matplotlib.pyplot as plt\n",
    "from functools import reduce\n",
    "import seaborn as sns\n",
    "from pyspark.sql import SparkSession, Row\n",
    "import pyspark.sql.functions as F\n",
    "from pyspark.sql.functions import max as sqlmax\n",
    "from pyspark.sql.functions import min as sqlmin\n",
    "from pyspark.sql.functions import sum as sqlsum\n",
    "from pyspark.sql.functions import mean as sqlmean\n",
    "from graphframes.lib import AggregateMessages as AM"
   ]
  },
  {
   "cell_type": "markdown",
   "metadata": {},
   "source": [
    "First all the required files are read from s3 buckets"
   ]
  },
  {
   "cell_type": "code",
   "execution_count": 3,
   "metadata": {},
   "outputs": [
    {
     "data": {
      "application/vnd.jupyter.widget-view+json": {
       "model_id": "8d36d1959bd1433f8ad1a60b5daeee74",
       "version_major": 2,
       "version_minor": 0
      },
      "text/plain": [
       "VBox()"
      ]
     },
     "metadata": {},
     "output_type": "display_data"
    },
    {
     "data": {
      "application/vnd.jupyter.widget-view+json": {
       "model_id": "",
       "version_major": 2,
       "version_minor": 0
      },
      "text/plain": [
       "FloatProgress(value=0.0, bar_style='info', description='Progress:', layout=Layout(height='25px', width='50%'),…"
      ]
     },
     "metadata": {},
     "output_type": "display_data"
    }
   ],
   "source": [
    "# Data collection and cleaning already done, data uploaded to s3 bucket\n",
    "# code has been uploaded as a separate python file;\n",
    "df = pd.read_csv('s3://aws-emr-resources-825655629964-us-east-1/data_final3.csv')\n",
    "tot_awards = []\n",
    "for s in df['awards']:\n",
    "    if isinstance(s,str):\n",
    "        val=[int(u) for u in re.findall('[0-9]+',s)]\n",
    "        val = sum(val)\n",
    "    else:\n",
    "        val = 0\n",
    "    tot_awards.append(val)\n",
    "df['tot_awards'] = tot_awards"
   ]
  },
  {
   "cell_type": "code",
   "execution_count": 4,
   "metadata": {},
   "outputs": [
    {
     "data": {
      "application/vnd.jupyter.widget-view+json": {
       "model_id": "ec8432e9e17c495e9fa6120642b1158e",
       "version_major": 2,
       "version_minor": 0
      },
      "text/plain": [
       "VBox()"
      ]
     },
     "metadata": {},
     "output_type": "display_data"
    },
    {
     "data": {
      "application/vnd.jupyter.widget-view+json": {
       "model_id": "",
       "version_major": 2,
       "version_minor": 0
      },
      "text/plain": [
       "FloatProgress(value=0.0, bar_style='info', description='Progress:', layout=Layout(height='25px', width='50%'),…"
      ]
     },
     "metadata": {},
     "output_type": "display_data"
    }
   ],
   "source": [
    "# Consolidating and extrapolating financial data\n",
    "fin_new = pd.read_csv('s3://aws-emr-resources-825655629964-us-east-1/finance_final.csv')\n",
    "fin_new.columns = ['name', 'world_gross', 'prod_bud']\n",
    "fin_new.index = fin_new.name\n",
    "df.index = df.title\n",
    "ids = list(set(df.index).intersection(fin_new.index))\n",
    "df.loc[ids, 'world_gross'] = fin_new.loc[ids, 'world_gross']\n",
    "df.loc[ids, 'prod_bud'] = fin_new.loc[ids, 'prod_bud']"
   ]
  },
  {
   "cell_type": "code",
   "execution_count": 5,
   "metadata": {},
   "outputs": [
    {
     "data": {
      "application/vnd.jupyter.widget-view+json": {
       "model_id": "75b84e93a3ae4c19993bb518c77430d4",
       "version_major": 2,
       "version_minor": 0
      },
      "text/plain": [
       "VBox()"
      ]
     },
     "metadata": {},
     "output_type": "display_data"
    },
    {
     "data": {
      "application/vnd.jupyter.widget-view+json": {
       "model_id": "",
       "version_major": 2,
       "version_minor": 0
      },
      "text/plain": [
       "FloatProgress(value=0.0, bar_style='info', description='Progress:', layout=Layout(height='25px', width='50%'),…"
      ]
     },
     "metadata": {},
     "output_type": "display_data"
    }
   ],
   "source": [
    "ids1 = list(df[pd.notnull(df.world_gross) & pd.notnull(df.prod_bud)].index)\n",
    "avg_g2p = df.loc[ids1, 'world_gross'].sum() / df.loc[ids1, 'prod_bud'].sum()\n",
    "\n",
    "ids2 = list(df[(df.world_gross.isnull()) & pd.notnull(df.prod_bud)].index)\n",
    "df.loc[ids2, 'world_gross'] = avg_g2p * df.loc[ids2, 'prod_bud']\n",
    "\n",
    "ids3 = list(df[(df.prod_bud.isnull()) & pd.notnull(df.world_gross)].index)\n",
    "df.loc[ids3, 'prod_bud'] = df.loc[ids3, 'world_gross'] / avg_g2p \n",
    "\n",
    "ids4 = list(set(df.index).difference(set(ids1+ids2+ids3)))\n",
    "df.loc[ids4, 'prod_bud'] = df.prod_bud.mean()\n",
    "df.loc[ids4, 'world_gross'] = df.world_gross.mean()\n",
    "\n",
    "missing_wg = ids2+ids4\n",
    "missing_pb = ids3+ids4"
   ]
  },
  {
   "cell_type": "markdown",
   "metadata": {},
   "source": [
    "Now I repurpose the data to create a graph"
   ]
  },
  {
   "cell_type": "code",
   "execution_count": 6,
   "metadata": {},
   "outputs": [
    {
     "data": {
      "application/vnd.jupyter.widget-view+json": {
       "model_id": "ff12da71f0844f438e0cebc25a70c122",
       "version_major": 2,
       "version_minor": 0
      },
      "text/plain": [
       "VBox()"
      ]
     },
     "metadata": {},
     "output_type": "display_data"
    },
    {
     "data": {
      "application/vnd.jupyter.widget-view+json": {
       "model_id": "",
       "version_major": 2,
       "version_minor": 0
      },
      "text/plain": [
       "FloatProgress(value=0.0, bar_style='info', description='Progress:', layout=Layout(height='25px', width='50%'),…"
      ]
     },
     "metadata": {},
     "output_type": "display_data"
    }
   ],
   "source": [
    "# Create Node List\n",
    "vertices = pd.DataFrame()\n",
    "vertices.loc[:, 'nodes'] = df['title']\n",
    "vertices.loc[:, 'year'] = df['year']\n",
    "vertices.loc[:, 'imdb_rating'] = df['imdb_rating']\n",
    "vertices.loc[:, 'tot_awards'] = df['tot_awards']\n",
    "vertices.loc[:, 'bechdel'] = df['bechdel']\n",
    "vertices.loc[:, 'prod_bud'] = df['prod_bud']\n",
    "vertices.loc[:, 'world_gross'] = df['world_gross']\n",
    "\n",
    "vertices.loc[:, 'type'] = (['movie'] * vertices.shape[0])\n",
    "vertices.loc[:, 'count'] = ([1] * vertices.shape[0])\n",
    "movies = list(df['title'])\n",
    "cat = ['director', 'actors', 'writer']\n",
    "edges = []"
   ]
  },
  {
   "cell_type": "code",
   "execution_count": 7,
   "metadata": {},
   "outputs": [
    {
     "data": {
      "application/vnd.jupyter.widget-view+json": {
       "model_id": "8d41c473b8dd4dd685afd03706612ca3",
       "version_major": 2,
       "version_minor": 0
      },
      "text/plain": [
       "VBox()"
      ]
     },
     "metadata": {},
     "output_type": "display_data"
    },
    {
     "data": {
      "application/vnd.jupyter.widget-view+json": {
       "model_id": "",
       "version_major": 2,
       "version_minor": 0
      },
      "text/plain": [
       "FloatProgress(value=0.0, bar_style='info', description='Progress:', layout=Layout(height='25px', width='50%'),…"
      ]
     },
     "metadata": {},
     "output_type": "display_data"
    }
   ],
   "source": [
    "for c in cat:\n",
    "    titles = []\n",
    "    regex = re.compile(\".*?\\((.*?)\\)\")\n",
    "    new_names = list(df[c])\n",
    "    new_names = [i.split(',') for i in new_names]\n",
    "    titles = [[movies[ind]] * len(new_names[ind]) for ind in range(len(new_names))]\n",
    "    \n",
    "    new_names = reduce(lambda x, y: x + y, new_names)\n",
    "    titles = reduce(lambda x, y: x + y, titles)\n",
    "    new_names = [re.sub('\\(.*?\\)','', i) for i in new_names]\n",
    "    new_names = [re.sub('\"','', i) for i in new_names]\n",
    "    new_names = [re.sub('\\'','', i) for i in new_names]\n",
    "\n",
    "    new_names = [i.strip() for i in new_names]\n",
    "    edges += [i for i in zip(new_names, titles, [c]*len(new_names))]\n",
    "    new_names = list(set(new_names))\n",
    "\n",
    "    new_nodes = pd.DataFrame()\n",
    "    new_nodes.loc[:, 'nodes'] = pd.Series(new_names)\n",
    "    new_nodes.loc[:, 'type'] = pd.Series(['artist'] * len(new_names))\n",
    "    new_nodes.loc[:, 'year'] = pd.Series([None] * len(new_names))\n",
    "    new_nodes.loc[:, 'bechdel'] = pd.Series([None] * len(new_names))\n",
    "    new_nodes.loc[:, 'prod_bud'] = pd.Series([None] * len(new_names))\n",
    "    new_nodes.loc[:, 'world_gross'] = pd.Series([None] * len(new_names))\n",
    "    \n",
    "    new_nodes.loc[:, 'imdb_rating'] = pd.Series([None] * len(new_names))\n",
    "    new_nodes.loc[:, 'tot_awards'] = pd.Series([None] * len(new_names))\n",
    "    new_nodes.loc[:, 'count'] = pd.Series([1] * len(new_names))\n",
    "    \n",
    "    vertices = pd.concat([vertices, new_nodes])"
   ]
  },
  {
   "cell_type": "code",
   "execution_count": 8,
   "metadata": {},
   "outputs": [
    {
     "data": {
      "application/vnd.jupyter.widget-view+json": {
       "model_id": "940e0103c08b407a94a0b31f949d436e",
       "version_major": 2,
       "version_minor": 0
      },
      "text/plain": [
       "VBox()"
      ]
     },
     "metadata": {},
     "output_type": "display_data"
    },
    {
     "data": {
      "application/vnd.jupyter.widget-view+json": {
       "model_id": "",
       "version_major": 2,
       "version_minor": 0
      },
      "text/plain": [
       "FloatProgress(value=0.0, bar_style='info', description='Progress:', layout=Layout(height='25px', width='50%'),…"
      ]
     },
     "metadata": {},
     "output_type": "display_data"
    }
   ],
   "source": [
    "spark = SparkSession.builder.appName('pandasToSparkDF').getOrCreate()\n",
    "vertices.drop_duplicates(subset=['nodes'], inplace=True)\n",
    "vertices = spark.createDataFrame(vertices)\n",
    "vertices = vertices.withColumnRenamed('nodes', 'id')\n",
    "\n",
    "edges = [list(i) for i in edges]\n",
    "edges = pd.DataFrame(edges)\n",
    "edges.columns = ['person', 'movie', 'type']\n",
    "edges = spark.createDataFrame(edges)\n",
    "edges2 = (edges.withColumnRenamed('movie', 'src')\n",
    "              .withColumnRenamed('person', 'dst')\n",
    "        )\n",
    "edges = (edges.withColumnRenamed('movie', 'dst')\n",
    "              .withColumnRenamed('person', 'src')\n",
    "        )\n",
    "\n",
    "g = GraphFrame(vertices, edges)"
   ]
  },
  {
   "cell_type": "markdown",
   "metadata": {},
   "source": [
    "Finally I move on to compute all the required features"
   ]
  },
  {
   "cell_type": "code",
   "execution_count": 9,
   "metadata": {},
   "outputs": [
    {
     "data": {
      "application/vnd.jupyter.widget-view+json": {
       "model_id": "c83532adff98473f9119a3f72cfdbb3c",
       "version_major": 2,
       "version_minor": 0
      },
      "text/plain": [
       "VBox()"
      ]
     },
     "metadata": {},
     "output_type": "display_data"
    },
    {
     "data": {
      "application/vnd.jupyter.widget-view+json": {
       "model_id": "",
       "version_major": 2,
       "version_minor": 0
      },
      "text/plain": [
       "FloatProgress(value=0.0, bar_style='info', description='Progress:', layout=Layout(height='25px', width='50%'),…"
      ]
     },
     "metadata": {},
     "output_type": "display_data"
    },
    {
     "name": "stdout",
     "output_type": "stream",
     "text": [
      "                                artist\n",
      "Sam Fell                      Sam Fell\n",
      "Larry Clark                Larry Clark\n",
      "Taylor Hackford        Taylor Hackford\n",
      "Michael A. Nickles  Michael A. Nickles\n",
      "Scott Thomas              Scott Thomas"
     ]
    }
   ],
   "source": [
    "# Construct final dataframe to feed into the ML pipeline\n",
    "artists = g.filterVertices('type != \"movie\"').vertices.toPandas()['id']\n",
    "mldata = pd.DataFrame(artists)\n",
    "mldata.columns = ['artist']\n",
    "mldata.index = list(mldata['artist'])\n",
    "mldata.head()"
   ]
  },
  {
   "cell_type": "markdown",
   "metadata": {},
   "source": [
    "Output variables"
   ]
  },
  {
   "cell_type": "code",
   "execution_count": 10,
   "metadata": {},
   "outputs": [
    {
     "data": {
      "application/vnd.jupyter.widget-view+json": {
       "model_id": "41549ae9cf784471a5ef29fb105aee05",
       "version_major": 2,
       "version_minor": 0
      },
      "text/plain": [
       "VBox()"
      ]
     },
     "metadata": {},
     "output_type": "display_data"
    },
    {
     "data": {
      "application/vnd.jupyter.widget-view+json": {
       "model_id": "",
       "version_major": 2,
       "version_minor": 0
      },
      "text/plain": [
       "FloatProgress(value=0.0, bar_style='info', description='Progress:', layout=Layout(height='25px', width='50%'),…"
      ]
     },
     "metadata": {},
     "output_type": "display_data"
    },
    {
     "name": "stdout",
     "output_type": "stream",
     "text": [
      "                                artist  num_movies\n",
      "Sam Fell                      Sam Fell           4\n",
      "Larry Clark                Larry Clark           3\n",
      "Taylor Hackford        Taylor Hackford           5\n",
      "Michael A. Nickles  Michael A. Nickles           2\n",
      "Scott Thomas              Scott Thomas           2"
     ]
    }
   ],
   "source": [
    "# Work volume\n",
    "df1 = g.filterVertices('type != \"movie\"').vertices\n",
    "df1 = df1.dropDuplicates(subset=['id'])\n",
    "df2 = g.outDegrees\n",
    "df2 = df2.dropDuplicates(subset=['id'])\n",
    "num_movies = df2.join(df1, df1.id == df2.id, 'inner').drop(df1.id).drop(df1.type).dropDuplicates(subset=['id']).toPandas()\n",
    "mldata.loc[num_movies['id'],'num_movies'] = list(num_movies['outDegree'])\n",
    "mldata.head()"
   ]
  },
  {
   "cell_type": "code",
   "execution_count": 11,
   "metadata": {},
   "outputs": [
    {
     "data": {
      "application/vnd.jupyter.widget-view+json": {
       "model_id": "00406f24ca5647a395f3eb4bd9230fb0",
       "version_major": 2,
       "version_minor": 0
      },
      "text/plain": [
       "VBox()"
      ]
     },
     "metadata": {},
     "output_type": "display_data"
    },
    {
     "data": {
      "application/vnd.jupyter.widget-view+json": {
       "model_id": "",
       "version_major": 2,
       "version_minor": 0
      },
      "text/plain": [
       "FloatProgress(value=0.0, bar_style='info', description='Progress:', layout=Layout(height='25px', width='50%'),…"
      ]
     },
     "metadata": {},
     "output_type": "display_data"
    }
   ],
   "source": [
    "# Years active\n",
    "msgToSrc = AM.dst[\"year\"]\n",
    "aggmax = g.aggregateMessages(\n",
    "    sqlmax(AM.msg).alias(\"maxyear\"),\n",
    "    sendToSrc=msgToSrc).toPandas()\n",
    "aggmin = g.aggregateMessages(\n",
    "    sqlmin(AM.msg).alias(\"minyear\"),\n",
    "    sendToSrc=msgToSrc).toPandas()\n",
    "aggmax.index = aggmax['id']\n",
    "aggmin.index = aggmin['id']\n",
    "mldata.loc[:,'yactive'] = aggmax.loc[mldata.index, 'maxyear']\\\n",
    "                        - aggmin.loc[mldata.index, 'minyear']"
   ]
  },
  {
   "cell_type": "markdown",
   "metadata": {},
   "source": [
    "Quality features"
   ]
  },
  {
   "cell_type": "code",
   "execution_count": 12,
   "metadata": {},
   "outputs": [
    {
     "data": {
      "application/vnd.jupyter.widget-view+json": {
       "model_id": "6d26f495fbb945eda5e8780bbe775c0c",
       "version_major": 2,
       "version_minor": 0
      },
      "text/plain": [
       "VBox()"
      ]
     },
     "metadata": {},
     "output_type": "display_data"
    },
    {
     "data": {
      "application/vnd.jupyter.widget-view+json": {
       "model_id": "",
       "version_major": 2,
       "version_minor": 0
      },
      "text/plain": [
       "FloatProgress(value=0.0, bar_style='info', description='Progress:', layout=Layout(height='25px', width='50%'),…"
      ]
     },
     "metadata": {},
     "output_type": "display_data"
    }
   ],
   "source": [
    "# Rating - min and max IMDb ratings\n",
    "msgToSrc = AM.dst[\"imdb_rating\"]\n",
    "aggmax = g.aggregateMessages(\n",
    "    sqlmax(AM.msg).alias(\"maxrating\"),\n",
    "    sendToSrc=msgToSrc).toPandas()\n",
    "aggmean = g.aggregateMessages(\n",
    "    sqlmean(AM.msg).alias(\"meanrating\"),\n",
    "    sendToSrc=msgToSrc).toPandas()\n",
    "aggmax.index = aggmax['id']\n",
    "aggmean.index = aggmean['id']\n",
    "mldata.loc[:,'maxrating'] = aggmax.loc[mldata.index, 'maxrating']\n",
    "mldata.loc[:,'meanrating'] = aggmean.loc[mldata.index, 'meanrating']"
   ]
  },
  {
   "cell_type": "code",
   "execution_count": 13,
   "metadata": {},
   "outputs": [
    {
     "data": {
      "application/vnd.jupyter.widget-view+json": {
       "model_id": "c7b25a4246da41ec9d587e0e6aa82f6a",
       "version_major": 2,
       "version_minor": 0
      },
      "text/plain": [
       "VBox()"
      ]
     },
     "metadata": {},
     "output_type": "display_data"
    },
    {
     "data": {
      "application/vnd.jupyter.widget-view+json": {
       "model_id": "",
       "version_major": 2,
       "version_minor": 0
      },
      "text/plain": [
       "FloatProgress(value=0.0, bar_style='info', description='Progress:', layout=Layout(height='25px', width='50%'),…"
      ]
     },
     "metadata": {},
     "output_type": "display_data"
    }
   ],
   "source": [
    "# Awards & nominations - total and mean\n",
    "msgToSrc = AM.dst[\"tot_awards\"]\n",
    "aggmax = g.aggregateMessages(\n",
    "    sqlmax(AM.msg).alias(\"maxawards\"),\n",
    "    sendToSrc=msgToSrc).toPandas()\n",
    "aggmean = g.aggregateMessages(\n",
    "    sqlmean(AM.msg).alias(\"meanawards\"),\n",
    "    sendToSrc=msgToSrc).toPandas()\n",
    "aggmax.index = aggmax['id']\n",
    "aggmean.index = aggmean['id']\n",
    "mldata.loc[:,'maxawards'] = aggmax.loc[mldata.index, 'maxawards']\n",
    "mldata.loc[:,'meanawards'] = aggmean.loc[mldata.index, 'meanawards']"
   ]
  },
  {
   "cell_type": "code",
   "execution_count": 14,
   "metadata": {},
   "outputs": [
    {
     "data": {
      "application/vnd.jupyter.widget-view+json": {
       "model_id": "45ef764315c24ccb85ad8b0f5b315b92",
       "version_major": 2,
       "version_minor": 0
      },
      "text/plain": [
       "VBox()"
      ]
     },
     "metadata": {},
     "output_type": "display_data"
    },
    {
     "data": {
      "application/vnd.jupyter.widget-view+json": {
       "model_id": "",
       "version_major": 2,
       "version_minor": 0
      },
      "text/plain": [
       "FloatProgress(value=0.0, bar_style='info', description='Progress:', layout=Layout(height='25px', width='50%'),…"
      ]
     },
     "metadata": {},
     "output_type": "display_data"
    }
   ],
   "source": [
    "# Bechdel - total and mean\n",
    "msgToSrc = AM.dst[\"bechdel\"]\n",
    "aggmean = g.aggregateMessages(\n",
    "    sqlmean(AM.msg).alias(\"meanbechdel\"),\n",
    "    sendToSrc=msgToSrc).toPandas()\n",
    "aggmean.index = aggmean['id']\n",
    "mldata.loc[:,'meanbechdel'] = aggmean.loc[mldata.index, 'meanbechdel']"
   ]
  },
  {
   "cell_type": "code",
   "execution_count": 15,
   "metadata": {},
   "outputs": [
    {
     "data": {
      "application/vnd.jupyter.widget-view+json": {
       "model_id": "77a30f15a3c647299a5db67d9ad9e529",
       "version_major": 2,
       "version_minor": 0
      },
      "text/plain": [
       "VBox()"
      ]
     },
     "metadata": {},
     "output_type": "display_data"
    },
    {
     "data": {
      "application/vnd.jupyter.widget-view+json": {
       "model_id": "",
       "version_major": 2,
       "version_minor": 0
      },
      "text/plain": [
       "FloatProgress(value=0.0, bar_style='info', description='Progress:', layout=Layout(height='25px', width='50%'),…"
      ]
     },
     "metadata": {},
     "output_type": "display_data"
    }
   ],
   "source": [
    "# Box office collection\n",
    "msgToSrc = AM.dst[\"world_gross\"]\n",
    "aggmax = g.aggregateMessages(\n",
    "    sqlmax(AM.msg).alias(\"maxbo\"),\n",
    "    sendToSrc=msgToSrc).toPandas()\n",
    "aggmean = g.aggregateMessages(\n",
    "    sqlmean(AM.msg).alias(\"meanbo\"),\n",
    "    sendToSrc=msgToSrc).toPandas()\n",
    "aggmax.index = aggmax['id']\n",
    "aggmean.index = aggmean['id']\n",
    "mldata.loc[:,'maxbo'] = aggmax.loc[mldata.index, 'maxbo']\n",
    "mldata.loc[:,'meanbo'] = aggmean.loc[mldata.index, 'meanbo']"
   ]
  },
  {
   "cell_type": "markdown",
   "metadata": {},
   "source": [
    "Network features"
   ]
  },
  {
   "cell_type": "code",
   "execution_count": 16,
   "metadata": {},
   "outputs": [
    {
     "data": {
      "application/vnd.jupyter.widget-view+json": {
       "model_id": "f42aa6b1e6434b5495a2f80155b052f8",
       "version_major": 2,
       "version_minor": 0
      },
      "text/plain": [
       "VBox()"
      ]
     },
     "metadata": {},
     "output_type": "display_data"
    },
    {
     "data": {
      "application/vnd.jupyter.widget-view+json": {
       "model_id": "",
       "version_major": 2,
       "version_minor": 0
      },
      "text/plain": [
       "FloatProgress(value=0.0, bar_style='info', description='Progress:', layout=Layout(height='25px', width='50%'),…"
      ]
     },
     "metadata": {},
     "output_type": "display_data"
    },
    {
     "name": "stdout",
     "output_type": "stream",
     "text": [
      "{2, 3, 4, 5, 6, 7, 8, 9, 10, 11, 12, 15, 18, 20, 12085}"
     ]
    }
   ],
   "source": [
    "# all connected co-artists\n",
    "cc = g.connectedComponents()\n",
    "coartists = {}\n",
    "x = cc.toPandas()\n",
    "x.index = x.id\n",
    "for c in x.component.unique():\n",
    "    search = \"component={} and type='artist'\".format(c)\n",
    "    coartists[c] = cc.filter(search).count()\n",
    "cinds = x.loc[mldata.index, 'component']\n",
    "set([coartists[c] for c in cinds])"
   ]
  },
  {
   "cell_type": "markdown",
   "metadata": {},
   "source": [
    "I will not be using this feature because the graph essentially contains only one large connected component and hence won't give much additional information. Instead I will look at all artists within edge distance = 2 from an artist as her co-artists (i.e. someone she has worked with on any movie)."
   ]
  },
  {
   "cell_type": "code",
   "execution_count": 16,
   "metadata": {},
   "outputs": [
    {
     "data": {
      "application/vnd.jupyter.widget-view+json": {
       "model_id": "0f563bf051dd4942a8474e5f904a6514",
       "version_major": 2,
       "version_minor": 0
      },
      "text/plain": [
       "VBox()"
      ]
     },
     "metadata": {},
     "output_type": "display_data"
    },
    {
     "data": {
      "application/vnd.jupyter.widget-view+json": {
       "model_id": "",
       "version_major": 2,
       "version_minor": 0
      },
      "text/plain": [
       "FloatProgress(value=0.0, bar_style='info', description='Progress:', layout=Layout(height='25px', width='50%'),…"
      ]
     },
     "metadata": {},
     "output_type": "display_data"
    }
   ],
   "source": [
    "# Number of co-artists\n",
    "msgToDst = AM.src[\"count\"]\n",
    "aggsum = g.aggregateMessages(\n",
    "    sqlsum(AM.msg).alias(\"count1\"),\n",
    "    sendToDst=msgToDst).toPandas()\n",
    "aggsum.index = aggsum['id']\n",
    "vertices = vertices.toPandas()\n",
    "vertices.index = vertices.id\n",
    "vertices.loc[:, 'count1'] = pd.Series([0] * vertices.count())\n",
    "vertices.loc[aggsum.index, 'count1'] = aggsum.count1\n",
    "vertices = spark.createDataFrame(vertices)\n",
    "gdash = GraphFrame(vertices, edges)\n",
    "msgToSrc = AM.dst[\"count\"]\n",
    "aggsum = g.aggregateMessages(\n",
    "    sqlsum(AM.msg).alias(\"count1\"),\n",
    "    sendToSrc=msgToSrc).toPandas()\n",
    "aggsum.index = aggsum['id']\n",
    "mldata.loc[:,'numcoartists'] = aggsum.loc[mldata.index, 'count1']"
   ]
  },
  {
   "cell_type": "code",
   "execution_count": 17,
   "metadata": {},
   "outputs": [
    {
     "data": {
      "application/vnd.jupyter.widget-view+json": {
       "model_id": "a226045e22f7410cb6f1264690758fd8",
       "version_major": 2,
       "version_minor": 0
      },
      "text/plain": [
       "VBox()"
      ]
     },
     "metadata": {},
     "output_type": "display_data"
    },
    {
     "data": {
      "application/vnd.jupyter.widget-view+json": {
       "model_id": "",
       "version_major": 2,
       "version_minor": 0
      },
      "text/plain": [
       "FloatProgress(value=0.0, bar_style='info', description='Progress:', layout=Layout(height='25px', width='50%'),…"
      ]
     },
     "metadata": {},
     "output_type": "display_data"
    }
   ],
   "source": [
    "# Co-artist influence\n",
    "gdash = GraphFrame(vertices, edges2)\n",
    "results = gdash.pageRank(resetProbability=0.15, tol=0.01)\n",
    "pr = results.vertices.select(\"id\", \"pagerank\")\n",
    "pr = pr.toPandas()\n",
    "pr.index = pr.id\n",
    "mldata.loc[:,'pagerank'] = pr.loc[mldata.index, 'pagerank']"
   ]
  },
  {
   "cell_type": "code",
   "execution_count": 19,
   "metadata": {},
   "outputs": [
    {
     "data": {
      "application/vnd.jupyter.widget-view+json": {
       "model_id": "da5147ef5b1c4ef687025b6a072fc3b9",
       "version_major": 2,
       "version_minor": 0
      },
      "text/plain": [
       "VBox()"
      ]
     },
     "metadata": {},
     "output_type": "display_data"
    },
    {
     "data": {
      "application/vnd.jupyter.widget-view+json": {
       "model_id": "",
       "version_major": 2,
       "version_minor": 0
      },
      "text/plain": [
       "FloatProgress(value=0.0, bar_style='info', description='Progress:', layout=Layout(height='25px', width='50%'),…"
      ]
     },
     "metadata": {},
     "output_type": "display_data"
    }
   ],
   "source": [
    "# Production company network\n",
    "proddf = pd.read_csv('s3://aws-emr-resources-825655629964-us-east-1/production5.csv')\n",
    "proddf.drop(columns=['budget'], inplace=True)\n",
    "proddf2 = proddf.copy()\n",
    "proddf2.columns = ['title', 'production']\n",
    "edges_prod = spark.createDataFrame(pd.concat([proddf2, proddf]))\n",
    "edges_prod = (edges_prod.withColumnRenamed('production', 'dst')\n",
    "               .withColumnRenamed('title', 'src')\n",
    "      )\n",
    "\n",
    "vertices_prod = list(proddf.title) + list(proddf.production)\n",
    "vertices_prod = pd.DataFrame(vertices_prod)\n",
    "vertices_prod.columns = ['id']\n",
    "vertices_prod.drop_duplicates(subset=['id'], inplace=True)\n",
    "vertices_prod = spark.createDataFrame(vertices_prod)\n",
    "g_prod = GraphFrame(vertices_prod, edges_prod)\n",
    "results = g_prod.pageRank(resetProbability=0.15, tol=0.05)\n",
    "pr = results.vertices.select(\"id\", \"pagerank\")"
   ]
  },
  {
   "cell_type": "code",
   "execution_count": 20,
   "metadata": {},
   "outputs": [
    {
     "data": {
      "application/vnd.jupyter.widget-view+json": {
       "model_id": "a39d5a0e0cb94b3387b2991e41aeeef2",
       "version_major": 2,
       "version_minor": 0
      },
      "text/plain": [
       "VBox()"
      ]
     },
     "metadata": {},
     "output_type": "display_data"
    },
    {
     "data": {
      "application/vnd.jupyter.widget-view+json": {
       "model_id": "",
       "version_major": 2,
       "version_minor": 0
      },
      "text/plain": [
       "FloatProgress(value=0.0, bar_style='info', description='Progress:', layout=Layout(height='25px', width='50%'),…"
      ]
     },
     "metadata": {},
     "output_type": "display_data"
    }
   ],
   "source": [
    "search = g.vertices.filter(\"type=='movie'\").toPandas()\n",
    "vertices = vertices.toPandas()\n",
    "vertices.index = vertices.id\n",
    "pr = pr.toPandas()\n",
    "pr.index = pr.id\n",
    "ids = list(set(search.id).intersection(set(pr.id)))\n",
    "vertices.loc[:, 'pagerank'] = [0] * vertices.shape[0]\n",
    "vertices.loc[ids, 'pagerank'] = pr.loc[ids, 'pagerank']\n",
    "vertices = spark.createDataFrame(vertices)\n",
    "gdash = GraphFrame(vertices, edges)\n",
    "msgToSrc = AM.dst[\"pagerank\"]\n",
    "aggmax = gdash.aggregateMessages(\n",
    "    sqlmax(AM.msg).alias(\"pagerank\"),\n",
    "    sendToSrc=msgToSrc).toPandas()\n",
    "aggmax.index = aggmax['id']\n",
    "mldata.loc[:,'pagerank'] = aggmax.loc[mldata.index, 'pagerank']"
   ]
  },
  {
   "cell_type": "code",
   "execution_count": 21,
   "metadata": {},
   "outputs": [
    {
     "data": {
      "application/vnd.jupyter.widget-view+json": {
       "model_id": "b5e400233c314566b6f6e248031378ca",
       "version_major": 2,
       "version_minor": 0
      },
      "text/plain": [
       "VBox()"
      ]
     },
     "metadata": {},
     "output_type": "display_data"
    },
    {
     "data": {
      "application/vnd.jupyter.widget-view+json": {
       "model_id": "",
       "version_major": 2,
       "version_minor": 0
      },
      "text/plain": [
       "FloatProgress(value=0.0, bar_style='info', description='Progress:', layout=Layout(height='25px', width='50%'),…"
      ]
     },
     "metadata": {},
     "output_type": "display_data"
    }
   ],
   "source": [
    "# Production budget\n",
    "msgToSrc = AM.dst[\"prod_bud\"]\n",
    "aggmax = g.aggregateMessages(\n",
    "    sqlmax(AM.msg).alias(\"maxpb\"),\n",
    "    sendToSrc=msgToSrc).toPandas()\n",
    "aggmean = g.aggregateMessages(\n",
    "    sqlmean(AM.msg).alias(\"meanpb\"),\n",
    "    sendToSrc=msgToSrc).toPandas()\n",
    "aggmax.index = aggmax['id']\n",
    "aggmean.index = aggmean['id']\n",
    "mldata.loc[:,'maxpb'] = aggmax.loc[mldata.index, 'maxpb']\n",
    "mldata.loc[:,'meanpb'] = aggmean.loc[mldata.index, 'meanpb']"
   ]
  },
  {
   "cell_type": "code",
   "execution_count": 22,
   "metadata": {},
   "outputs": [
    {
     "data": {
      "application/vnd.jupyter.widget-view+json": {
       "model_id": "b08e3e2bce0c4d418b2f398cbd4e66b1",
       "version_major": 2,
       "version_minor": 0
      },
      "text/plain": [
       "VBox()"
      ]
     },
     "metadata": {},
     "output_type": "display_data"
    },
    {
     "data": {
      "application/vnd.jupyter.widget-view+json": {
       "model_id": "",
       "version_major": 2,
       "version_minor": 0
      },
      "text/plain": [
       "FloatProgress(value=0.0, bar_style='info', description='Progress:', layout=Layout(height='25px', width='50%'),…"
      ]
     },
     "metadata": {},
     "output_type": "display_data"
    }
   ],
   "source": [
    "mldata.to_csv('s3://aws-emr-resources-825655629964-us-east-1/mldatav1.csv', index=False)"
   ]
  },
  {
   "cell_type": "markdown",
   "metadata": {},
   "source": [
    "### Machine Learning"
   ]
  },
  {
   "cell_type": "code",
   "execution_count": 23,
   "metadata": {},
   "outputs": [
    {
     "data": {
      "application/vnd.jupyter.widget-view+json": {
       "model_id": "1c02cf447e9e48fc8358c946e09b1f58",
       "version_major": 2,
       "version_minor": 0
      },
      "text/plain": [
       "VBox()"
      ]
     },
     "metadata": {},
     "output_type": "display_data"
    },
    {
     "data": {
      "application/vnd.jupyter.widget-view+json": {
       "model_id": "",
       "version_major": 2,
       "version_minor": 0
      },
      "text/plain": [
       "FloatProgress(value=0.0, bar_style='info', description='Progress:', layout=Layout(height='25px', width='50%'),…"
      ]
     },
     "metadata": {},
     "output_type": "display_data"
    },
    {
     "name": "stdout",
     "output_type": "stream",
     "text": [
      "Index(['artist', 'num_movies', 'yactive', 'maxrating', 'meanrating',\n",
      "       'maxawards', 'meanawards', 'meanbechdel', 'maxbo', 'meanbo',\n",
      "       'numcoartists', 'pagerank', 'maxpb', 'meanpb'],\n",
      "      dtype='object')\n",
      "               artist  num_movies  ...         maxpb        meanpb\n",
      "0            Sam Fell           4  ...  1.490000e+08  1.045000e+08\n",
      "1         Larry Clark           3  ...  2.100000e+07  7.866667e+06\n",
      "2     Taylor Hackford           5  ...  6.500000e+07  4.100000e+07\n",
      "3  Michael A. Nickles           2  ...  7.500000e+06  7.500000e+06\n",
      "4        Scott Thomas           2  ...  3.820879e+07  3.820879e+07\n",
      "\n",
      "[5 rows x 14 columns]"
     ]
    }
   ],
   "source": [
    "mldata = pd.read_csv('s3://aws-emr-resources-825655629964-us-east-1/mldatav1.csv')\n",
    "print(mldata.columns)\n",
    "print(mldata.head() )\n",
    "mldata = spark.createDataFrame(mldata)"
   ]
  },
  {
   "cell_type": "code",
   "execution_count": 24,
   "metadata": {},
   "outputs": [
    {
     "data": {
      "application/vnd.jupyter.widget-view+json": {
       "model_id": "e25adcdb56e14cfaacbd39290b3b4cb3",
       "version_major": 2,
       "version_minor": 0
      },
      "text/plain": [
       "VBox()"
      ]
     },
     "metadata": {},
     "output_type": "display_data"
    },
    {
     "data": {
      "application/vnd.jupyter.widget-view+json": {
       "model_id": "",
       "version_major": 2,
       "version_minor": 0
      },
      "text/plain": [
       "FloatProgress(value=0.0, bar_style='info', description='Progress:', layout=Layout(height='25px', width='50%'),…"
      ]
     },
     "metadata": {},
     "output_type": "display_data"
    }
   ],
   "source": [
    "from pyspark.ml.regression import LinearRegression, RandomForestRegressor\n",
    "from pyspark.ml.evaluation import RegressionEvaluator\n",
    "from pyspark.ml.feature import VectorAssembler\n",
    "from pyspark.ml.classification import DecisionTreeClassifier\n",
    "from pyspark.ml import Pipeline\n",
    "from pyspark.ml.tuning import CrossValidator, ParamGridBuilder"
   ]
  },
  {
   "cell_type": "code",
   "execution_count": 25,
   "metadata": {},
   "outputs": [
    {
     "data": {
      "application/vnd.jupyter.widget-view+json": {
       "model_id": "bfc65800a2d94209b77556ad0e5b2c17",
       "version_major": 2,
       "version_minor": 0
      },
      "text/plain": [
       "VBox()"
      ]
     },
     "metadata": {},
     "output_type": "display_data"
    },
    {
     "data": {
      "application/vnd.jupyter.widget-view+json": {
       "model_id": "",
       "version_major": 2,
       "version_minor": 0
      },
      "text/plain": [
       "FloatProgress(value=0.0, bar_style='info', description='Progress:', layout=Layout(height='25px', width='50%'),…"
      ]
     },
     "metadata": {},
     "output_type": "display_data"
    },
    {
     "name": "stdout",
     "output_type": "stream",
     "text": [
      "['artist', 'num_movies', 'yactive', 'maxrating', 'meanrating', 'maxawards', 'meanawards', 'meanbechdel', 'maxbo', 'meanbo', 'numcoartists', 'pagerank', 'maxpb', 'meanpb']"
     ]
    }
   ],
   "source": [
    "mldata.columns"
   ]
  },
  {
   "cell_type": "code",
   "execution_count": 26,
   "metadata": {},
   "outputs": [
    {
     "data": {
      "application/vnd.jupyter.widget-view+json": {
       "model_id": "b4f48e9ddd124b49a7eb8ac36c94f997",
       "version_major": 2,
       "version_minor": 0
      },
      "text/plain": [
       "VBox()"
      ]
     },
     "metadata": {},
     "output_type": "display_data"
    },
    {
     "data": {
      "application/vnd.jupyter.widget-view+json": {
       "model_id": "",
       "version_major": 2,
       "version_minor": 0
      },
      "text/plain": [
       "FloatProgress(value=0.0, bar_style='info', description='Progress:', layout=Layout(height='25px', width='50%'),…"
      ]
     },
     "metadata": {},
     "output_type": "display_data"
    }
   ],
   "source": [
    "def regression_model(features, mldata, label):\n",
    "    mldata_train, mldata_test = mldata.randomSplit([0.8, 0.2], seed=17)\n",
    "\n",
    "    assembler = VectorAssembler(inputCols=features, outputCol='features')\n",
    "    regression = LinearRegression(labelCol=label)\n",
    "    pipeline = Pipeline(stages=[assembler, regression])\n",
    "    evaluator = RegressionEvaluator(labelCol=label)\n",
    "\n",
    "    params = ParamGridBuilder()\n",
    "    params = params.addGrid(regression.regParam, [0.01,0.1,1.0,10.0]) \\\n",
    "                   .addGrid(regression.elasticNetParam, [0.0,0.5,1.0])\n",
    "    params = params.build()\n",
    "\n",
    "    cv = CrossValidator(estimator=pipeline, estimatorParamMaps=params, evaluator=evaluator, numFolds=5)\n",
    "    cv = cv.fit(mldata_train)\n",
    "    best_model = cv.bestModel\n",
    "    predictions = best_model.transform(mldata_test)\n",
    "    rmse = evaluator.evaluate(predictions)\n",
    "    \n",
    "    return rmse"
   ]
  },
  {
   "cell_type": "code",
   "execution_count": 27,
   "metadata": {},
   "outputs": [
    {
     "data": {
      "application/vnd.jupyter.widget-view+json": {
       "model_id": "a2f6e7c630db45c9aec245f6231c9b86",
       "version_major": 2,
       "version_minor": 0
      },
      "text/plain": [
       "VBox()"
      ]
     },
     "metadata": {},
     "output_type": "display_data"
    },
    {
     "data": {
      "application/vnd.jupyter.widget-view+json": {
       "model_id": "",
       "version_major": 2,
       "version_minor": 0
      },
      "text/plain": [
       "FloatProgress(value=0.0, bar_style='info', description='Progress:', layout=Layout(height='25px', width='50%'),…"
      ]
     },
     "metadata": {},
     "output_type": "display_data"
    }
   ],
   "source": [
    "merit_feat = ['maxrating', 'meanrating', 'maxawards', 'meanawards', 'meanbechdel']\n",
    "network_feat = ['maxbo', 'meanbo', 'numcoartists', 'pagerank', 'maxpb', 'meanpb']"
   ]
  },
  {
   "cell_type": "code",
   "execution_count": 28,
   "metadata": {},
   "outputs": [
    {
     "data": {
      "application/vnd.jupyter.widget-view+json": {
       "model_id": "6aad6ea6d1fe401f8881a1a8a30f7686",
       "version_major": 2,
       "version_minor": 0
      },
      "text/plain": [
       "VBox()"
      ]
     },
     "metadata": {},
     "output_type": "display_data"
    },
    {
     "data": {
      "application/vnd.jupyter.widget-view+json": {
       "model_id": "",
       "version_major": 2,
       "version_minor": 0
      },
      "text/plain": [
       "FloatProgress(value=0.0, bar_style='info', description='Progress:', layout=Layout(height='25px', width='50%'),…"
      ]
     },
     "metadata": {},
     "output_type": "display_data"
    },
    {
     "name": "stderr",
     "output_type": "stream",
     "text": [
      "Exception in thread cell_monitor-28:\n",
      "Traceback (most recent call last):\n",
      "  File \"/emr/notebook-env/lib/python3.7/threading.py\", line 926, in _bootstrap_inner\n",
      "    self.run()\n",
      "  File \"/emr/notebook-env/lib/python3.7/threading.py\", line 870, in run\n",
      "    self._target(*self._args, **self._kwargs)\n",
      "  File \"/emr/notebook-env/lib/python3.7/site-packages/awseditorssparkmonitoringwidget-1.0-py3.7.egg/awseditorssparkmonitoringwidget/cellmonitor.py\", line 178, in cell_monitor\n",
      "    job_binned_stages[job_id][stage_id] = all_stages[stage_id]\n",
      "KeyError: 1698\n",
      "\n"
     ]
    },
    {
     "name": "stdout",
     "output_type": "stream",
     "text": [
      "model RMSE for predicting number of movies\n",
      "merit features: 1.6869520786853196\n",
      "network features: 0.009557625328660143\n",
      "both merit and network features: 0.009557598165038265"
     ]
    }
   ],
   "source": [
    "print('model RMSE for predicting number of movies')\n",
    "print('merit features:', regression_model(merit_feat, mldata, 'num_movies'))\n",
    "print('network features:', regression_model(network_feat, mldata, 'num_movies'))\n",
    "print('both merit and network features:', regression_model(merit_feat+network_feat, mldata, 'num_movies'))"
   ]
  },
  {
   "cell_type": "code",
   "execution_count": 29,
   "metadata": {},
   "outputs": [
    {
     "data": {
      "application/vnd.jupyter.widget-view+json": {
       "model_id": "6e212d88a5b94ed281a26e46c701833b",
       "version_major": 2,
       "version_minor": 0
      },
      "text/plain": [
       "VBox()"
      ]
     },
     "metadata": {},
     "output_type": "display_data"
    },
    {
     "data": {
      "application/vnd.jupyter.widget-view+json": {
       "model_id": "",
       "version_major": 2,
       "version_minor": 0
      },
      "text/plain": [
       "FloatProgress(value=0.0, bar_style='info', description='Progress:', layout=Layout(height='25px', width='50%'),…"
      ]
     },
     "metadata": {},
     "output_type": "display_data"
    },
    {
     "name": "stderr",
     "output_type": "stream",
     "text": [
      "Exception in thread cell_monitor-29:\n",
      "Traceback (most recent call last):\n",
      "  File \"/emr/notebook-env/lib/python3.7/threading.py\", line 926, in _bootstrap_inner\n",
      "    self.run()\n",
      "  File \"/emr/notebook-env/lib/python3.7/threading.py\", line 870, in run\n",
      "    self._target(*self._args, **self._kwargs)\n",
      "  File \"/emr/notebook-env/lib/python3.7/site-packages/awseditorssparkmonitoringwidget-1.0-py3.7.egg/awseditorssparkmonitoringwidget/cellmonitor.py\", line 178, in cell_monitor\n",
      "    job_binned_stages[job_id][stage_id] = all_stages[stage_id]\n",
      "KeyError: 2498\n",
      "\n"
     ]
    },
    {
     "name": "stdout",
     "output_type": "stream",
     "text": [
      "model RMSE for predicting number of active years\n",
      "merit features: 2.4663624617820745\n",
      "network features: 2.281160756643252\n",
      "both merit and network features: 2.0501275918333253"
     ]
    }
   ],
   "source": [
    "print('model RMSE for predicting number of active years')\n",
    "print('merit features:', regression_model(merit_feat, mldata, 'yactive'))\n",
    "print('network features:', regression_model(network_feat, mldata, 'yactive'))\n",
    "print('both merit and network features:', regression_model(merit_feat+network_feat, mldata, 'yactive'))"
   ]
  },
  {
   "cell_type": "code",
   "execution_count": 30,
   "metadata": {},
   "outputs": [
    {
     "data": {
      "application/vnd.jupyter.widget-view+json": {
       "model_id": "77b166b77c7943c089f2eb1c41eb040d",
       "version_major": 2,
       "version_minor": 0
      },
      "text/plain": [
       "VBox()"
      ]
     },
     "metadata": {},
     "output_type": "display_data"
    },
    {
     "data": {
      "application/vnd.jupyter.widget-view+json": {
       "model_id": "",
       "version_major": 2,
       "version_minor": 0
      },
      "text/plain": [
       "FloatProgress(value=0.0, bar_style='info', description='Progress:', layout=Layout(height='25px', width='50%'),…"
      ]
     },
     "metadata": {},
     "output_type": "display_data"
    }
   ],
   "source": [
    "def random_forest_model(features, mldata, label):\n",
    "    mldata_train, mldata_test = mldata.randomSplit([0.8, 0.2], seed=17)\n",
    "\n",
    "    assembler = VectorAssembler(inputCols=features, outputCol='features')\n",
    "    forest = RandomForestRegressor(labelCol=label)\n",
    "    pipeline = Pipeline(stages=[assembler, forest])\n",
    "    evaluator = RegressionEvaluator(labelCol=label)\n",
    "\n",
    "    params = ParamGridBuilder()\n",
    "    params = params.addGrid(forest.featureSubsetStrategy, ['all', 'onethird', 'sqrt', 'log2']) \\\n",
    "                   .addGrid(forest.maxDepth, [2, 5, 10])\n",
    "    params = params.build()\n",
    "\n",
    "    cv = CrossValidator(estimator=pipeline, estimatorParamMaps=params, evaluator=evaluator, numFolds=5)\n",
    "    cv = cv.fit(mldata_train)\n",
    "    best_model = cv.bestModel\n",
    "    predictions = best_model.transform(mldata_test)\n",
    "    rmse = evaluator.evaluate(predictions)\n",
    "    \n",
    "    return rmse"
   ]
  },
  {
   "cell_type": "code",
   "execution_count": 31,
   "metadata": {},
   "outputs": [
    {
     "data": {
      "application/vnd.jupyter.widget-view+json": {
       "model_id": "547672f2625b413fa56bc84c463b9556",
       "version_major": 2,
       "version_minor": 0
      },
      "text/plain": [
       "VBox()"
      ]
     },
     "metadata": {},
     "output_type": "display_data"
    },
    {
     "data": {
      "application/vnd.jupyter.widget-view+json": {
       "model_id": "",
       "version_major": 2,
       "version_minor": 0
      },
      "text/plain": [
       "FloatProgress(value=0.0, bar_style='info', description='Progress:', layout=Layout(height='25px', width='50%'),…"
      ]
     },
     "metadata": {},
     "output_type": "display_data"
    },
    {
     "name": "stdout",
     "output_type": "stream",
     "text": [
      "model RMSE for predicting number of movies\n",
      "merit features: 1.4779209749378392\n",
      "network features: 0.0026028960314768046\n",
      "both merit and network features: 0.013199091933711351"
     ]
    }
   ],
   "source": [
    "print('model RMSE for predicting number of movies')\n",
    "print('merit features:', random_forest_model(merit_feat, mldata, 'num_movies'))\n",
    "print('network features:', random_forest_model(network_feat, mldata, 'num_movies'))\n",
    "print('both merit and network features:', random_forest_model(merit_feat+network_feat, mldata, 'num_movies'))"
   ]
  },
  {
   "cell_type": "code",
   "execution_count": 1,
   "metadata": {},
   "outputs": [],
   "source": [
    "# Note that a network feature is strongly correlated to the outcome feature: i.e. number of co-artists with number of movies\n",
    "# which is why the RMSE is so small, so need to re-run analysis by omitting this variable and maybe adding other measures"
   ]
  },
  {
   "cell_type": "code",
   "execution_count": 32,
   "metadata": {},
   "outputs": [
    {
     "data": {
      "application/vnd.jupyter.widget-view+json": {
       "model_id": "ea0d4b15f29b4e2e8b87e282ac100d6f",
       "version_major": 2,
       "version_minor": 0
      },
      "text/plain": [
       "VBox()"
      ]
     },
     "metadata": {},
     "output_type": "display_data"
    },
    {
     "data": {
      "application/vnd.jupyter.widget-view+json": {
       "model_id": "",
       "version_major": 2,
       "version_minor": 0
      },
      "text/plain": [
       "FloatProgress(value=0.0, bar_style='info', description='Progress:', layout=Layout(height='25px', width='50%'),…"
      ]
     },
     "metadata": {},
     "output_type": "display_data"
    },
    {
     "name": "stderr",
     "output_type": "stream",
     "text": [
      "Exception in thread cell_monitor-31:\n",
      "Traceback (most recent call last):\n",
      "  File \"/emr/notebook-env/lib/python3.7/threading.py\", line 926, in _bootstrap_inner\n",
      "    self.run()\n",
      "  File \"/emr/notebook-env/lib/python3.7/threading.py\", line 870, in run\n",
      "    self._target(*self._args, **self._kwargs)\n",
      "  File \"/emr/notebook-env/lib/python3.7/site-packages/awseditorssparkmonitoringwidget-1.0-py3.7.egg/awseditorssparkmonitoringwidget/cellmonitor.py\", line 178, in cell_monitor\n",
      "    job_binned_stages[job_id][stage_id] = all_stages[stage_id]\n",
      "KeyError: 6910\n",
      "\n",
      "Exception in thread cell_monitor-32:\n",
      "Traceback (most recent call last):\n",
      "  File \"/emr/notebook-env/lib/python3.7/threading.py\", line 926, in _bootstrap_inner\n",
      "    self.run()\n",
      "  File \"/emr/notebook-env/lib/python3.7/threading.py\", line 870, in run\n",
      "    self._target(*self._args, **self._kwargs)\n",
      "  File \"/emr/notebook-env/lib/python3.7/site-packages/awseditorssparkmonitoringwidget-1.0-py3.7.egg/awseditorssparkmonitoringwidget/cellmonitor.py\", line 178, in cell_monitor\n",
      "    job_binned_stages[job_id][stage_id] = all_stages[stage_id]\n",
      "KeyError: 7999\n",
      "\n"
     ]
    },
    {
     "name": "stdout",
     "output_type": "stream",
     "text": [
      "model RMSE for predicting number of active years\n",
      "merit features: 2.0539315406154155\n",
      "network features: 1.8106673650277643\n",
      "both merit and network features: 1.7969651322570954"
     ]
    }
   ],
   "source": [
    "print('model RMSE for predicting number of active years')\n",
    "print('merit features:', random_forest_model(merit_feat, mldata, 'yactive'))\n",
    "print('network features:', random_forest_model(network_feat, mldata, 'yactive'))\n",
    "print('both merit and network features:', random_forest_model(merit_feat+network_feat, mldata, 'yactive'))"
   ]
  },
  {
   "cell_type": "code",
   "execution_count": null,
   "metadata": {},
   "outputs": [],
   "source": []
  },
  {
   "cell_type": "code",
   "execution_count": null,
   "metadata": {},
   "outputs": [],
   "source": []
  }
 ],
 "metadata": {
  "kernelspec": {
   "display_name": "Python 3",
   "language": "python",
   "name": "python3"
  },
  "language_info": {
   "codemirror_mode": {
    "name": "ipython",
    "version": 3
   },
   "file_extension": ".py",
   "mimetype": "text/x-python",
   "name": "python",
   "nbconvert_exporter": "python",
   "pygments_lexer": "ipython3",
   "version": "3.7.1"
  }
 },
 "nbformat": 4,
 "nbformat_minor": 4
}
